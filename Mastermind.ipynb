{
 "cells": [
  {
   "cell_type": "code",
   "execution_count": null,
   "metadata": {},
   "outputs": [],
   "source": [
    "# Mastermind game Computer Vs Player\n",
    "\n",
    "\n",
    "# Import random libraries\n",
    "import random\n",
    "''' Set variables for Computer Choice, Player Choice, and Number of Round Respectively\n",
    "    and define Colors''' \n",
    "Computer_Choice = []\n",
    "Player_Choice = [\"\", \"\", \"\",\"\"]\n",
    "Number_Round = 10\n",
    "Color_Available= [\"Blue\",\"Green\",\"Orange\",\"Pink\",\"Red\",\"Yellow\"]\n",
    "\n",
    "\n",
    "#Define the functions colorRandom which generate the computer choice of color and its position\n",
    " \n",
    "def colorRandom():\n",
    "    Comp_Colors = [\n",
    "        random.choice(Color_Available)\n",
    "        for i in range(4)]\n",
    "    return(Comp_Colors)\n",
    "\n",
    "\"\"\" ***Define a function to get round result: \n",
    "  *****Black means the right colour in the right position\n",
    "*******White means this colour is present in the computer choice but in the wrong position\"\"\"\n",
    "def getResult():\n",
    "    Result = [\"Nothing\", \"Nothing\", \"Nothing\", \"Nothing\"]\n",
    "    Computer_Choice = list(Comp_tuple)\n",
    "    Computer_Blst = Computer_Choice\n",
    "    for i in range(len(Player_Choice)):\n",
    "    # If there are any Blacks in the results and add it to the list \n",
    "        if Player_Choice[i] == Computer_Choice[i]:\n",
    "            Result[i] = \"black\"\n",
    "            Computer_Blst[i] = \"taken\"\n",
    "    for i in range(len(Player_Choice)):\n",
    "    # If there are any Whites in the results and add it to the list \n",
    "    #White means you get the answer but the position is not correct\n",
    "    #Black means you get the answer\n",
    "        for j in range(len(Computer_Choice)):\n",
    "            if Player_Choice[i] == Computer_Blst[j]:\n",
    "                Result[i] = \"white\"\n",
    "                Computer_Blst[j] = \"taken\"\n",
    "                break\n",
    "    print(f\"\\nThe result is {Result}\\n\")\n",
    "    return Result \n",
    "\n",
    "\"\"\"\n",
    "*****Define computer color choice\n",
    "*******The result of random color list\n",
    "*********Tuple of omputer which is unchangable as a reference to use for the initial computer choice of colors \n",
    "************Remember: We can modifiy the computer _choice variable during the function getResult \n",
    "**************Functionsare mutuable \"\"\"\n",
    "\n",
    "Comp_tuple = tuple(colorRandom())\n",
    "\n",
    "\"\"\"\n",
    "***********Time to get input from Player his choice of colors which is four color from the available colors *****\n",
    "***********Available Colors Blue, Green , Orange, Pink , Red, Yellow***********\n",
    "\"\"\" \n",
    "def askPlayer():\n",
    "    for i in range(len(Computer_Choice)):\n",
    "        print(\"************ Your Color Blue,Green, Orange, Pink, Red, or Yellow ************************************\")\n",
    "        Player_Choice[i] = input(f\"**** Enter for Position {i+1}: ****\")\n",
    "        while Player_Choice[i] not in Color_Available:         \n",
    "            print(\"~~~~~~~~~~~~~~~~~~~~~~~~~~~~~~~~~~~~~~~~~~~~~~~~~~~~~~~~~~~~~~~~~~~~~~~~~~~~~~~~~~~~~~~~~~~~~~~\")\n",
    "            print(\"Wrong. Please enter **no space, or *** First Capital letters!!!!!!!!!!!!!!!!!!!!!!!!!!!!!!!!!!\")\n",
    "            Player_Choice[i] = input(f\"*******ENTER AGAIN FOR POSITION NUMBER {i+1}: **********\")\n",
    "\n",
    "            \n",
    "#Define Computer choice\n",
    "Computer_Choice = colorRandom()\n",
    "\n",
    "\n",
    "# Play the game. The game is composed of a maximum of 10 rounds. if after 10 rounds the user has not found the \n",
    "# computer's choice then the computer wins\n",
    "for i in range(10):\n",
    "    print(f\"This is round number {i+1}\")\n",
    "    askPlayer()\n",
    "    result2 = getResult()\n",
    "    if result2 == [\"black\", \"black\", \"black\", \"black\"]:\n",
    "        print(\"Congratulations! You won!!\")\n",
    "\n",
    "if result2 != [\"black\", \"black\", \"black\", \"black\"]:\n",
    "    print(f\"Sorry but you lost. The answer was {Comp_tuple}\")"
   ]
  },
  {
   "cell_type": "code",
   "execution_count": null,
   "metadata": {},
   "outputs": [],
   "source": []
  },
  {
   "cell_type": "code",
   "execution_count": null,
   "metadata": {},
   "outputs": [],
   "source": []
  },
  {
   "cell_type": "code",
   "execution_count": null,
   "metadata": {},
   "outputs": [],
   "source": []
  },
  {
   "cell_type": "code",
   "execution_count": null,
   "metadata": {},
   "outputs": [],
   "source": []
  },
  {
   "cell_type": "code",
   "execution_count": null,
   "metadata": {},
   "outputs": [],
   "source": []
  },
  {
   "cell_type": "code",
   "execution_count": null,
   "metadata": {},
   "outputs": [],
   "source": []
  },
  {
   "cell_type": "code",
   "execution_count": null,
   "metadata": {},
   "outputs": [],
   "source": []
  },
  {
   "cell_type": "code",
   "execution_count": null,
   "metadata": {},
   "outputs": [],
   "source": []
  },
  {
   "cell_type": "code",
   "execution_count": null,
   "metadata": {},
   "outputs": [],
   "source": []
  },
  {
   "cell_type": "code",
   "execution_count": null,
   "metadata": {},
   "outputs": [],
   "source": []
  }
 ],
 "metadata": {
  "kernelspec": {
   "display_name": "Python 3",
   "language": "python",
   "name": "python3"
  },
  "language_info": {
   "codemirror_mode": {
    "name": "ipython",
    "version": 3
   },
   "file_extension": ".py",
   "mimetype": "text/x-python",
   "name": "python",
   "nbconvert_exporter": "python",
   "pygments_lexer": "ipython3",
   "version": "3.7.6"
  }
 },
 "nbformat": 4,
 "nbformat_minor": 2
}
